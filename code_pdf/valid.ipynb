{
 "cells": [
  {
   "cell_type": "code",
   "execution_count": 77,
   "metadata": {},
   "outputs": [],
   "source": [
    "import pandas as pd\n",
    "import os\n",
    "input_path = \"./data_extraction\"\n",
    "pdf_files = os.listdir(input_path)\n",
    "ground_true_file = [file for file in pdf_files if \"ground_true\" in file][0]\n",
    "table_file = [file for file in pdf_files if \"table\" in file][0]\n",
    "text_file = [file for file in pdf_files if \"text\" in file][0]\n",
    "hybird_file = [file for file in pdf_files if \"hybird\" in file][0]\n",
    "\n",
    "ground_true_report = pd.read_excel(os.path.join(input_path, ground_true_file))\n",
    "ground_true_report.rename(columns={\"Page\": \"ground_true_page\"}, inplace=True)\n",
    "ground_true_report.fillna(value={\"ground_true_page\":-1}, inplace=True)\n",
    "ground_true_report[\"ground_true_page\"].replace(\"-\", -1, inplace=True)\n",
    "# ground_true_report"
   ]
  },
  {
   "cell_type": "code",
   "execution_count": 78,
   "metadata": {},
   "outputs": [
    {
     "name": "stdout",
     "output_type": "stream",
     "text": [
      "recall is 0.4090909090909091 for only use tables' informations \n",
      "precision is 0.14864864864864866 for only use tables' informations\n"
     ]
    }
   ],
   "source": [
    "table_report = pd.read_csv(os.path.join(input_path, table_file))\n",
    "table_report.rename(columns={\"page\": \"table_page\"}, inplace=True)\n",
    "table_report.fillna(value={\"table_page\":\"-2\"}, inplace=True)\n",
    "concated_table = pd.concat([ground_true_report, table_report], axis=1)\n",
    "concated_table = concated_table.drop(concated_table[concated_table[\"ground_true_page\"]==-1].index)\n",
    "recall = concated_table.apply(lambda row: str(row[\"ground_true_page\"]) in row[\"table_page\"].split(\" \"), axis=1).sum() / concated_table.shape[0]\n",
    "precision = concated_table.shape[0] / concated_table.apply(lambda row: len(row[\"table_page\"].split(\" \")), axis=1).sum() \n",
    "print(\"recall is %s for only use tables' informations \" % (recall))\n",
    "print(\"precision is %s for only use tables' informations\" % (precision))\n"
   ]
  },
  {
   "cell_type": "code",
   "execution_count": 80,
   "metadata": {},
   "outputs": [
    {
     "name": "stdout",
     "output_type": "stream",
     "text": [
      "recall is 0.5909090909090909 for only use text's informations\n",
      "precision is 0.039285714285714285 for only use text's informations\n"
     ]
    }
   ],
   "source": [
    "text_report = pd.read_csv(os.path.join(input_path, text_file))\n",
    "text_report.rename(columns={\"page\": \"text_page\"}, inplace=True)\n",
    "text_report.fillna(value={\"text_page\":\"-2\"}, inplace=True)\n",
    "concated_text = pd.concat([ground_true_report, text_report], axis=1)\n",
    "concated_text = concated_text.drop(concated_text[concated_text[\"ground_true_page\"]==-1].index)\n",
    "recall = concated_text.apply(lambda row: str(row[\"ground_true_page\"]) in row[\"text_page\"].split(\" \"), axis=1).sum() / concated_text.shape[0]\n",
    "precision = concated_text.shape[0] / concated_text.apply(lambda row: len(row[\"text_page\"].split(\" \")), axis=1).sum() \n",
    "print(\"recall is %s for only use text's informations\" % (recall))\n",
    "print(\"precision is %s for only use text's informations\" % (precision))"
   ]
  },
  {
   "cell_type": "code",
   "execution_count": null,
   "metadata": {},
   "outputs": [
    {
     "name": "stdout",
     "output_type": "stream",
     "text": [
      "recall is 0.5909090909090909\n",
      "precision is 0.039285714285714285\n"
     ]
    }
   ],
   "source": [
    "hybird_report = pd.read_csv(os.path.join(input_path, hybird_file))\n",
    "hybird_report.rename(columns={\"page\": \"hybird_page\"}, inplace=True)\n",
    "hybird_report.fillna(value={\"hybird_page\":\"-2\"}, inplace=True)\n",
    "concated_hybird = pd.concat([ground_true_report, hybird_report], axis=1)\n",
    "concated_hybird = concated_hybird.drop(concated_hybird[concated_hybird[\"ground_true_page\"]==-1].index)\n",
    "recall = concated_hybird.apply(lambda row: str(row[\"ground_true_page\"]) in row[\"hybird_page\"].split(\" \"), axis=1).sum() / concated_hybird.shape[0]\n",
    "precision = concated_hybird.shape[0] / concated_hybird.apply(lambda row: len(row[\"hybird_page\"].split(\" \")), axis=1).sum() \n",
    "print(\"recall is %s for only use hybird's informations\" % (recall))\n",
    "print(\"precision is %s for only use hybird's informations\" % (precision))"
   ]
  }
 ],
 "metadata": {
  "kernelspec": {
   "display_name": "Python 3.10.8 ('camelotenv')",
   "language": "python",
   "name": "python3"
  },
  "language_info": {
   "codemirror_mode": {
    "name": "ipython",
    "version": 3
   },
   "file_extension": ".py",
   "mimetype": "text/x-python",
   "name": "python",
   "nbconvert_exporter": "python",
   "pygments_lexer": "ipython3",
   "version": "3.10.8"
  },
  "orig_nbformat": 4,
  "vscode": {
   "interpreter": {
    "hash": "0223c632f617fca949c57c3ca0f5d1cb8bdc1aa423ed0406ba10b84d4d8863b4"
   }
  }
 },
 "nbformat": 4,
 "nbformat_minor": 2
}
