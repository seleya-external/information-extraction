{
 "cells": [
  {
   "cell_type": "code",
   "execution_count": 21,
   "metadata": {},
   "outputs": [],
   "source": [
    "import nltk\n",
    "import math\n",
    "import string\n",
    "\n",
    "from nltk.corpus import stopwords\n",
    "from collections import Counter\n",
    "from nltk.stem.porter import *"
   ]
  },
  {
   "cell_type": "code",
   "execution_count": null,
   "metadata": {},
   "outputs": [],
   "source": [
    "output_metric= {\n",
    "                \"Emissions\":\n",
    "                    [\"emission\", \"co2 emission\", \"ghg emission\", \"emission reduction\", \"emission target\", \"Emissions Policy\"],\n",
    "                \"Water\":\n",
    "                    [\"Water Withdrawal\", \"Water Discharged\", \"Water Recycled\", \"water risk\"],\n",
    "                \"Energy\":\n",
    "                    [\"Energy Consumed\", \"Renewable Energy\"],\n",
    "                \"Business Ethics\":\n",
    "                    [\"Women Executives\", \"Women Board Members\", \"Board Members\", \"Committee Independence\", \"ESG Sustainability Reporting\"],\n",
    "                \"Labor Practices\":\n",
    "                    [\"Trade Union\", \"CEO Salary\", \"Average Salary\", \"Employee Turnover\", \"Avg Training Hours\"],\n",
    "                \"Employee Engagement, Diversity & Inclusion\":\n",
    "                    [\"Women Employees\", \"Women Managers\", \"Minority Employees\"],\n",
    "                \"Employee Health & Safety\":\n",
    "                    [\"Lost Time\", \"Injury Rate\"],\n",
    "                \"Waste\":\n",
    "                    [\"Waste\"]\n",
    "                }"
   ]
  },
  {
   "cell_type": "code",
   "execution_count": 22,
   "metadata": {},
   "outputs": [],
   "source": [
    "text1 = \"Natural language processing (NLP) is a field of computer science, artificial intelligence and computational linguistics concerned with the interactions between computers and human (natural) languages, and, in particular, concerned with programming computers to fruitfully process large natural language corpora. Challenges in natural language processing frequently involve natural language understanding, natural language generation (frequently from formal, machine-readable logical forms), connecting language and machine perception, managing human-computer dialog systems, or some combination thereof.\"\n",
    "\n",
    "text2 = \"The Georgetown experiment in 1954 involved fully automatic translation of more than sixty Russian sentences into English. The authors claimed that within three or five years, machine translation would be a solved problem.[2] However, real progress was much slower, and after the ALPAC report in 1966, which found that ten-year-long research had failed to fulfill the expectations, funding for machine translation was dramatically reduced. Little further research in machine translation was conducted until the late 1980s, when the first statistical machine translation systems were developed.\"\n",
    "\n",
    "text3 = \"During the 1970s, many programmers began to write conceptual ontologies, which structured real-world information into computer-understandable data. Examples are MARGIE (Schank, 1975), SAM (Cullingford, 1978), PAM (Wilensky, 1978), TaleSpin (Meehan, 1976), QUALM (Lehnert, 1977), Politics (Carbonell, 1979), and Plot Units (Lehnert 1981). During this time, many chatterbots were written including PARRY, Racter, and Jabberwacky。\""
   ]
  },
  {
   "cell_type": "code",
   "execution_count": 23,
   "metadata": {},
   "outputs": [],
   "source": [
    "def get_tokens(text):\n",
    "    lower = text.lower()\n",
    "    remove_punctuation_map = dict((ord(char), None) for char in string.punctuation)\n",
    "    no_punctuation = lower.translate(remove_punctuation_map)\n",
    "    tokens = nltk.word_tokenize(no_punctuation)\n",
    "\n",
    "    return tokens"
   ]
  },
  {
   "cell_type": "code",
   "execution_count": 24,
   "metadata": {},
   "outputs": [],
   "source": [
    "def stem_tokens(tokens, stemmer):\n",
    "    stemmed = []\n",
    "    for item in tokens:\n",
    "        stemmed.append(stemmer.stem(item))\n",
    "\n",
    "    return stemmed"
   ]
  },
  {
   "cell_type": "code",
   "execution_count": 25,
   "metadata": {},
   "outputs": [],
   "source": [
    "def tf(word, count):\n",
    "    return count[word] / sum(count.values())\n",
    "def n_containing(word, count_list):\n",
    "    return sum(1 for count in count_list if word in count)\n",
    "def idf(word, count_list):\n",
    "    return math.log(len(count_list)) / (1 + n_containing(word, count_list))\n",
    "def tfidf(word, count, count_list):\n",
    "    return tf(word, count) * idf(word, count_list)"
   ]
  },
  {
   "cell_type": "code",
   "execution_count": 26,
   "metadata": {},
   "outputs": [
    {
     "name": "stdout",
     "output_type": "stream",
     "text": [
      "Top words in document 1\n",
      "\tWord: languag, TF-IDF: 0.07121\n",
      "\tWord: natur, TF-IDF: 0.06103\n",
      "\tWord: comput, TF-IDF: 0.04069\n",
      "\tWord: process, TF-IDF: 0.03052\n",
      "\tWord: concern, TF-IDF: 0.02034\n",
      "Top words in document 2\n",
      "\tWord: translat, TF-IDF: 0.05086\n",
      "\tWord: machin, TF-IDF: 0.02713\n",
      "\tWord: research, TF-IDF: 0.02034\n",
      "\tWord: georgetown, TF-IDF: 0.01017\n",
      "\tWord: experi, TF-IDF: 0.01017\n",
      "Top words in document 3\n",
      "\tWord: mani, TF-IDF: 0.02555\n",
      "\tWord: 1978, TF-IDF: 0.02555\n",
      "\tWord: lehnert, TF-IDF: 0.02555\n",
      "\tWord: 1970, TF-IDF: 0.01277\n",
      "\tWord: programm, TF-IDF: 0.01277\n"
     ]
    }
   ],
   "source": [
    "def count_term(text):\n",
    "    tokens = get_tokens(text)\n",
    "    filtered = [w for w in tokens if not w in stopwords.words('english')]\n",
    "    stemmer = PorterStemmer()\n",
    "    stemmed = stem_tokens(filtered, stemmer)\n",
    "    count = Counter(stemmed)\n",
    "    return count\n",
    "\n",
    "def main():\n",
    "    texts = [text1, text2, text3]\n",
    "    countlist = []\n",
    "    for text in texts:\n",
    "        countlist.append(count_term(text))\n",
    "    for i, count in enumerate(countlist):\n",
    "        print(\"Top words in document {}\".format(i + 1))\n",
    "        scores = {word: tfidf(word, count, countlist) for word in count}\n",
    "        sorted_words = sorted(scores.items(), key = lambda x: x[1], reverse=True)\n",
    "        for word, score in sorted_words[:5]:\n",
    "            print(\"\\tWord: {}, TF-IDF: {}\".format(word, round(score, 5)))\n",
    "\n",
    "if __name__ == \"__main__\":\n",
    "    main()"
   ]
  }
 ],
 "metadata": {
  "kernelspec": {
   "display_name": "Python 3.10.8 ('camelotenv')",
   "language": "python",
   "name": "python3"
  },
  "language_info": {
   "codemirror_mode": {
    "name": "ipython",
    "version": 3
   },
   "file_extension": ".py",
   "mimetype": "text/x-python",
   "name": "python",
   "nbconvert_exporter": "python",
   "pygments_lexer": "ipython3",
   "version": "3.10.8"
  },
  "orig_nbformat": 4,
  "vscode": {
   "interpreter": {
    "hash": "0223c632f617fca949c57c3ca0f5d1cb8bdc1aa423ed0406ba10b84d4d8863b4"
   }
  }
 },
 "nbformat": 4,
 "nbformat_minor": 2
}
