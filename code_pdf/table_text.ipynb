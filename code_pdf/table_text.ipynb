{
 "cells": [
  {
   "cell_type": "markdown",
   "metadata": {},
   "source": [
    "# output metric"
   ]
  },
  {
   "cell_type": "code",
   "execution_count": 1,
   "metadata": {},
   "outputs": [],
   "source": [
    "output_metric = {\n",
    "                \"Total CO2e Emissions\":\n",
    "                    [\"Emissions?\"],\n",
    "                \"CO2e Emissions, Scope 1\":\n",
    "                    [\"Emissions?\", \"Scope 1\"],\n",
    "                \"CO2e Emissions, Scope 2\":\n",
    "                    [\"Emissions?\", \"Scope 2\"],\n",
    "                \"CO2e Emissions, Scope 3\":\n",
    "                    [\"Emissions?\", \"Scope 3\"],\n",
    "                \"Emissions Policy\":\n",
    "                    [\"Emissions?\"],\n",
    "                \"Emission Reduction Target %\":\n",
    "                    [\"Emissions?\"],\n",
    "                \"Emissions Reduction Target Year\":\n",
    "                    [\"Emissions?\"],\n",
    "                \"Total Water Withdrawal\":\n",
    "                    [\"Water\"],\n",
    "                \"Water Discharged\":\n",
    "                    [\"Water\"],\n",
    "                \"Total Fresh Water Withdrawal\":\n",
    "                    [\"Water\"],\n",
    "                \"Water Recycled\":\n",
    "                    [\"Water\"],\n",
    "                \"Water Efficiency Target\":\n",
    "                    [\"Water\"],\n",
    "                \"Total Energy Consumed\":\n",
    "                    [\"Energy\"],\n",
    "                \"Total Renewable Energy\":\n",
    "                    [\"Energy\"],\n",
    "                \"Renewable Energy Consumed\":\n",
    "                    [\"Energy\"],\n",
    "                \"Renewable Energy Use\":\n",
    "                    [\"Energy\"],\n",
    "                \"Total Waste\":\n",
    "                    [\"Waste\"],\n",
    "                \"Women Executives %\":\n",
    "                    [\"Women\", \"Female\"],\n",
    "                \"Women Board Members %\":\n",
    "                    [\"Women\", \"Female\"],\n",
    "                \"Total Board Members\":\n",
    "                    [\"Board Members?\"],\n",
    "                \"Independent Board Members %\":\n",
    "                    [\"Board Members?\"],\n",
    "                \"Audit Committee Independence %\":\n",
    "                    [\"Committee Independence\"],\n",
    "                \"Compensation Committee Independence %\":\n",
    "                    [\"Committee Independence\"],\n",
    "                \"Nomination Committee Independence %\":\n",
    "                    [\"Committee Independence\"],\n",
    "                \"ESG Sustainability Reporting\":\n",
    "                    [\"Sustainability Reporting\", \"ESG reporting\"],\n",
    "                \"Lost Time Injury Rate - Employees\":\n",
    "                    [\"Injury\", \"Emlployees?\"],\n",
    "                \"Avg Training Hours / Employee\":\n",
    "                    [\"Training Hours?\", \"Employee\"],\n",
    "                \"Trade Union Percentage\":\n",
    "                    [\"Trade Union\"],\n",
    "                \"CEO Salary / Average Salary\":\n",
    "                    [\"Salary\", \"CEO Salary\", \"Average Salary\"],\n",
    "                \"Employee Turnover %\":\n",
    "                    [\"Employee\", \"Turnover\"],\n",
    "                \"Involuntary Employee Turnover Rate\":\n",
    "                    [\"Employee\", \"Turnover\"],\n",
    "                \"Women's / Men's Compensation %\":\n",
    "                    [\"Women\", \"Female\", \"Men\", \"Male\"],\n",
    "                \"Women Employees %\":\n",
    "                    [\"Women\", \"Female\", \"Employees?\"],\n",
    "                \"Women Managers %\":\n",
    "                    [\"Women\", \"Female\", \"Managers?\"],\n",
    "                \"Minority Employees %\":\n",
    "                    [\"Minority\", \"Employees?\"]\n",
    "                }"
   ]
  },
  {
   "cell_type": "code",
   "execution_count": 2,
   "metadata": {},
   "outputs": [],
   "source": [
    "# key_words = [\"Emissions?\",\n",
    "#              \"Scope [0-3]\",\n",
    "#              \"Water\",\n",
    "#              \"Energy\",\n",
    "#              \"Waste\",\n",
    "#              \"Women\",\n",
    "#              \"Female\"\n",
    "#              \"Board Members?\",\n",
    "#              \"Board Committee\",\n",
    "#              \"Committee Independence\",\n",
    "#              \"sustainability report\",\n",
    "#              \"ESG report\",\n",
    "#              \"Employees?\",\n",
    "#              \"Injury\",\n",
    "#              \"Training Hours\",\n",
    "#              \"Salary\",\n",
    "#              ]\n",
    "# position_record = {key_word:[] for key_word in key_words}"
   ]
  },
  {
   "cell_type": "markdown",
   "metadata": {},
   "source": [
    "# tables"
   ]
  },
  {
   "cell_type": "code",
   "execution_count": 3,
   "metadata": {},
   "outputs": [],
   "source": [
    "import camelot\n",
    "import os\n",
    "def parseTable_camelot(input_path, file, output_path, pages = \"all\"):\n",
    "    print(\"parsing table from \" + file + \"at pages \" + pages)\n",
    "    try:\n",
    "        tables = camelot.read_pdf(os.path.join(input_path, file), pages=pages)\n",
    "        if len(tables) > 0:\n",
    "            print(\"check the information\")\n",
    "            for table in tables:\n",
    "                # print(table.cols)\n",
    "                # print(table.rows)\n",
    "                # print(tabel.accuracy)\n",
    "                table_df = table.df\n",
    "                columns = table_df.shape[1]\n",
    "                for key_word,value_words  in output_metric.items():\n",
    "                    for col in range(columns):\n",
    "                        contains = any(table.df[col].str.contains(\"|\".join(value_words), case=False, regex=True).tolist())\n",
    "                        if contains:\n",
    "                            position_record[key_word].append(str(table.page))\n",
    "                            break\n",
    "            # print(\"saving {len(tables)} tables\")\n",
    "            # accuracy = [str(table.parsing_report[\"accuracy\"]) for table in tables]\n",
    "            # print(\"accuracy list \" + \" \".join(accuracy))\n",
    "            # tables.export(os.path.join(output_path, file.replace(\"pdf\", \"xlsx\")), f='excel')\n",
    "        else:\n",
    "            print(f\"no tables found for \" + file)\n",
    "    except Exception as e:\n",
    "        print(\"error parsing table from \" + file)    \n",
    "        print(e)      "
   ]
  },
  {
   "cell_type": "code",
   "execution_count": 4,
   "metadata": {},
   "outputs": [],
   "source": [
    "import tabula\n",
    "import pandas as pd\n",
    "def parseTable_tabula(input_path, file, output_path, pages):\n",
    "    print(\"parsing table from \" + file + \"at pages\" + pages)\n",
    "    try:\n",
    "        tables = tabula.read_pdf(os.path.join(input_path, file), pages=pages, lattice=True)\n",
    "        if len(tables) > 0:\n",
    "            print(\"saving {len(tables)} tables\")\n",
    "            with pd.ExcelWriter(os.path.join(output_path, file.replace(\"pdf\", \"xlsx\"))) as f_obj:\n",
    "                for i,table in enumerate(tables):\n",
    "                    table.to_excel(f_obj, sheet_name=str(i))\n",
    "        else:\n",
    "            print(f\"no tables found for \" + file)\n",
    "    except Exception as e:\n",
    "        print(\"error parsing table from \" + file)    \n",
    "        print(e) \n"
   ]
  },
  {
   "cell_type": "markdown",
   "metadata": {},
   "source": [
    "# texts"
   ]
  },
  {
   "cell_type": "code",
   "execution_count": 5,
   "metadata": {},
   "outputs": [],
   "source": [
    "import re\n",
    "def check_information(page, text):\n",
    "    for key_word, value_word in output_metric.items():\n",
    "        pattern = \"|\".join(value_word)\n",
    "        rex = re.search(pattern, text, re.I)\n",
    "        if rex != None:\n",
    "            position_record_text[key_word].append(str(page))"
   ]
  },
  {
   "cell_type": "code",
   "execution_count": 6,
   "metadata": {},
   "outputs": [],
   "source": [
    "import PyPDF2\n",
    "def parseText(input_path, file, output_path, pages):\n",
    "    print(\"parsing text from \" + file + \" at pages \" + pages)\n",
    "    object = PyPDF2.PdfFileReader(os.path.join(input_path, file))\n",
    "    num_pages = object.getNumPages()\n",
    "    for i in range(0, num_pages):\n",
    "        page = object.getPage(i)\n",
    "        text = page.extractText()\n",
    "        text = text.replace('\\n','')\n",
    "        check_information(i, text)\n",
    "        # with open(os.path.join(output_path, file.replace(\"pdf\", \"text\")), \"a\") as f_obj:\n",
    "        #     f_obj.write(text)"
   ]
  },
  {
   "cell_type": "markdown",
   "metadata": {},
   "source": [
    "# main function"
   ]
  },
  {
   "cell_type": "code",
   "execution_count": 7,
   "metadata": {},
   "outputs": [
    {
     "name": "stdout",
     "output_type": "stream",
     "text": [
      "parsing text from 2021-tesla-impact-report.pdfat pages all\n"
     ]
    }
   ],
   "source": [
    "import os\n",
    "import pandas as pd\n",
    "\n",
    "input_path = \"./pdf_files\"\n",
    "output_table_camelot = \"./table_files_camelot\"\n",
    "output_table_tabula = \"./table_files_tabula\"\n",
    "output_path_text = \"./text_files\"\n",
    "pdf_files = os.listdir(input_path)\n",
    "name = [\"output_metric\", \"page\"]\n",
    "for file in pdf_files:\n",
    "    # 1 parsing the table and text\n",
    "    position_record_table = {key_word:[] for key_word in output_metric.keys()}\n",
    "    position_record_text = {key_word:[] for key_word in output_metric.keys()}\n",
    "    # parseTable_camelot(input_path, file, output_table_camelot, pages=\"all\")\n",
    "    # parseTable_tabula(input_path, file, output_table_tabula)\n",
    "    parseText(input_path, file, output_path_text, \"all\")\n",
    "    # 2 save the result\n",
    "    position_record = {key_word:position_record_table[key_word]+position_record_text[key_word] \n",
    "                       for key_word in output_metric.keys()}\n",
    "    position_record = {key_word:list(set(pages)) for key_word, pages in position_record.items()}\n",
    "    position_matchs = [[key, \" \".join(value)] for key, value in position_record.items()]\n",
    "    data = pd.DataFrame(columns=name, data=position_matchs)\n",
    "    data.to_excel(\"./data_extraction/\" + file.replace(\".pdf\", \"_text.xlsx\"))"
   ]
  }
 ],
 "metadata": {
  "kernelspec": {
   "display_name": "Python 3.10.8 ('camelotenv')",
   "language": "python",
   "name": "python3"
  },
  "language_info": {
   "codemirror_mode": {
    "name": "ipython",
    "version": 3
   },
   "file_extension": ".py",
   "mimetype": "text/x-python",
   "name": "python",
   "nbconvert_exporter": "python",
   "pygments_lexer": "ipython3",
   "version": "3.10.8"
  },
  "orig_nbformat": 4,
  "vscode": {
   "interpreter": {
    "hash": "0223c632f617fca949c57c3ca0f5d1cb8bdc1aa423ed0406ba10b84d4d8863b4"
   }
  }
 },
 "nbformat": 4,
 "nbformat_minor": 2
}
