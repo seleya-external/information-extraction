{
 "cells": [
  {
   "cell_type": "code",
   "execution_count": 6,
   "metadata": {},
   "outputs": [],
   "source": [
    "query = \"CEO Salary\"\n",
    "item1 = \"He is the CEO of our company. He proves us plenty of salary.\"\n",
    "item2 = \"He is the CEO with plenty of salary.\""
   ]
  },
  {
   "cell_type": "code",
   "execution_count": 7,
   "metadata": {},
   "outputs": [],
   "source": [
    "import nltk\n",
    "import math\n",
    "import string\n",
    "from nltk.corpus import stopwords\n",
    "from collections import Counter\n",
    "from nltk.stem.porter import PorterStemmer\n",
    "from nltk.stem.snowball import SnowballStemmer"
   ]
  },
  {
   "cell_type": "code",
   "execution_count": 8,
   "metadata": {},
   "outputs": [],
   "source": [
    "def get_tokens(text):\n",
    "    \"\"\"\n",
    "    tokenize the text\n",
    "    \"\"\"\n",
    "    lower = text.lower()\n",
    "    remove_punctuation_map = dict((ord(char), None) for char in string.punctuation)\n",
    "    no_punctuation = lower.translate(remove_punctuation_map)\n",
    "    tokens = nltk.word_tokenize(no_punctuation)\n",
    "    return tokens\n",
    "def stem_tokens(tokens, stemmer):\n",
    "    \"\"\"\n",
    "    remove morphological affixes from words, leaving only the word stem\n",
    "    \"\"\"\n",
    "    stemmed = []\n",
    "    for item in tokens:\n",
    "        stemmed.append(stemmer.stem(item))\n",
    "    return stemmed\n",
    "def normalize(text):\n",
    "    \"\"\"\n",
    "    applement the tokenize and stem\n",
    "    \"\"\"\n",
    "    tokens = get_tokens(text)\n",
    "    filtered = [w for w in tokens if not w in stopwords.words('english')]\n",
    "    stemmer = SnowballStemmer(\"english\") # PorterStemmer\n",
    "    stemmed = stem_tokens(filtered, stemmer)\n",
    "    return stemmed"
   ]
  },
  {
   "cell_type": "code",
   "execution_count": 9,
   "metadata": {},
   "outputs": [
    {
     "name": "stdout",
     "output_type": "stream",
     "text": [
      "['ceo', 'compani', 'prove', 'us', 'plenti', 'salari']\n",
      "['ceo', 'plenti', 'salari']\n",
      "['ceo', 'salari']\n"
     ]
    }
   ],
   "source": [
    "item1 = normalize(item1)\n",
    "print(item1)\n",
    "item2 = normalize(item2)\n",
    "print(item2)\n",
    "query = normalize(query)\n",
    "print(query)"
   ]
  },
  {
   "cell_type": "code",
   "execution_count": 17,
   "metadata": {},
   "outputs": [],
   "source": [
    "import itertools\n",
    "\n",
    "def get_distance(w1,w2, item):\n",
    "    if w1 in item and w2 in item:\n",
    "        w1_indexes = [index for index, value in enumerate(item) if value == w1]    \n",
    "        w2_indexes = [index for index, value in enumerate(item) if value == w2]    \n",
    "        distances = [abs(item[0] - item[1]) for item in itertools.product(w1_indexes, w2_indexes)]\n",
    "        return {'min': min(distances), 'avg': sum(distances)/float(len(distances))}\n",
    "    else:\n",
    "        return 100\n",
    "def get_proximity(distance):\n",
    "    return 1 / (distance * distance)"
   ]
  },
  {
   "cell_type": "code",
   "execution_count": 20,
   "metadata": {},
   "outputs": [
    {
     "name": "stdout",
     "output_type": "stream",
     "text": [
      "the proximity of query and item1 is 0.04\n",
      "the proximity of query and item1 is 0.25\n"
     ]
    }
   ],
   "source": [
    "distances_data_1 = get_distance(query[0], query[1], item1)\n",
    "print(\"the proximity of query and item1 is %s\" % (get_proximity(distances_data_1[\"min\"])))\n",
    "distances_data_2 = get_distance(query[0], query[1], item2)\n",
    "print(\"the proximity of query and item1 is %s\" % (get_proximity(distances_data_2[\"min\"])))"
   ]
  }
 ],
 "metadata": {
  "kernelspec": {
   "display_name": "Python 3.10.8 ('camelotenv')",
   "language": "python",
   "name": "python3"
  },
  "language_info": {
   "codemirror_mode": {
    "name": "ipython",
    "version": 3
   },
   "file_extension": ".py",
   "mimetype": "text/x-python",
   "name": "python",
   "nbconvert_exporter": "python",
   "pygments_lexer": "ipython3",
   "version": "3.10.8"
  },
  "orig_nbformat": 4,
  "vscode": {
   "interpreter": {
    "hash": "0223c632f617fca949c57c3ca0f5d1cb8bdc1aa423ed0406ba10b84d4d8863b4"
   }
  }
 },
 "nbformat": 4,
 "nbformat_minor": 2
}
